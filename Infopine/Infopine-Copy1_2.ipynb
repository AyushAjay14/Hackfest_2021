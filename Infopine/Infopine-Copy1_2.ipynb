{
 "cells": [
  {
   "cell_type": "code",
   "execution_count": 1,
   "id": "illegal-drove",
   "metadata": {},
   "outputs": [],
   "source": [
    "import numpy as np\n",
    "import h5py\n",
    "import pandas as pd\n",
    "import matplotlib.pyplot as plt\n",
    "import PIL\n",
    "from PIL import Image\n",
    "from sklearn.utils import shuffle\n"
   ]
  },
  {
   "cell_type": "code",
   "execution_count": 2,
   "id": "productive-appeal",
   "metadata": {},
   "outputs": [],
   "source": [
    "with h5py.File('C:/Users/Dell/Dropbox (Old)/My PC (DESKTOP-9I2HO18)/Desktop/Textile/train64.h5','r') as hdf:\n",
    "    #ls=list(hdf.keys())\n",
    "    #print(ls)\n",
    "    data=hdf.get(\"images\")\n",
    "    images=np.array(data)"
   ]
  },
  {
   "cell_type": "code",
   "execution_count": 3,
   "id": "sudden-cornell",
   "metadata": {},
   "outputs": [],
   "source": [
    "def sigmoid(z):\n",
    "    return (1.0 / (1 + np.exp(-z)))"
   ]
  },
  {
   "cell_type": "code",
   "execution_count": 4,
   "id": "caroline-shoot",
   "metadata": {},
   "outputs": [],
   "source": [
    "def relu(z):\n",
    "    return np.maximum(z, 0)"
   ]
  },
  {
   "cell_type": "code",
   "execution_count": 5,
   "id": "comfortable-spray",
   "metadata": {},
   "outputs": [],
   "source": [
    "def derir(z):\n",
    "    z[z<0] = 0\n",
    "    z[z>=0] = 1\n",
    "    return z"
   ]
  },
  {
   "cell_type": "code",
   "execution_count": 6,
   "id": "handled-corporation",
   "metadata": {},
   "outputs": [],
   "source": [
    "train_df=pd.read_csv('C:/Users/Dell/Dropbox (Old)/My PC (DESKTOP-9I2HO18)/Desktop/Textile/train64.csv')"
   ]
  },
  {
   "cell_type": "code",
   "execution_count": 7,
   "id": "continental-aurora",
   "metadata": {},
   "outputs": [],
   "source": [
    "train_df[\"indication_value\"].replace({3: 1, 2: 1,4:1,5:1}, inplace=True)"
   ]
  },
  {
   "cell_type": "code",
   "execution_count": 29,
   "id": "blond-brown",
   "metadata": {},
   "outputs": [
    {
     "data": {
      "text/html": [
       "<div>\n",
       "<style scoped>\n",
       "    .dataframe tbody tr th:only-of-type {\n",
       "        vertical-align: middle;\n",
       "    }\n",
       "\n",
       "    .dataframe tbody tr th {\n",
       "        vertical-align: top;\n",
       "    }\n",
       "\n",
       "    .dataframe thead th {\n",
       "        text-align: right;\n",
       "    }\n",
       "</style>\n",
       "<table border=\"1\" class=\"dataframe\">\n",
       "  <thead>\n",
       "    <tr style=\"text-align: right;\">\n",
       "      <th></th>\n",
       "      <th>index</th>\n",
       "      <th>angle</th>\n",
       "      <th>indication_type</th>\n",
       "      <th>indication_value</th>\n",
       "      <th>split</th>\n",
       "    </tr>\n",
       "  </thead>\n",
       "  <tbody>\n",
       "    <tr>\n",
       "      <th>0</th>\n",
       "      <td>48000</td>\n",
       "      <td>0</td>\n",
       "      <td>good</td>\n",
       "      <td>0</td>\n",
       "      <td>train</td>\n",
       "    </tr>\n",
       "    <tr>\n",
       "      <th>1</th>\n",
       "      <td>48001</td>\n",
       "      <td>80</td>\n",
       "      <td>good</td>\n",
       "      <td>0</td>\n",
       "      <td>train</td>\n",
       "    </tr>\n",
       "    <tr>\n",
       "      <th>2</th>\n",
       "      <td>48002</td>\n",
       "      <td>100</td>\n",
       "      <td>good</td>\n",
       "      <td>0</td>\n",
       "      <td>train</td>\n",
       "    </tr>\n",
       "    <tr>\n",
       "      <th>3</th>\n",
       "      <td>48003</td>\n",
       "      <td>100</td>\n",
       "      <td>good</td>\n",
       "      <td>0</td>\n",
       "      <td>train</td>\n",
       "    </tr>\n",
       "    <tr>\n",
       "      <th>4</th>\n",
       "      <td>48004</td>\n",
       "      <td>0</td>\n",
       "      <td>good</td>\n",
       "      <td>0</td>\n",
       "      <td>train</td>\n",
       "    </tr>\n",
       "    <tr>\n",
       "      <th>...</th>\n",
       "      <td>...</td>\n",
       "      <td>...</td>\n",
       "      <td>...</td>\n",
       "      <td>...</td>\n",
       "      <td>...</td>\n",
       "    </tr>\n",
       "    <tr>\n",
       "      <th>47995</th>\n",
       "      <td>95995</td>\n",
       "      <td>20</td>\n",
       "      <td>thread</td>\n",
       "      <td>1</td>\n",
       "      <td>train</td>\n",
       "    </tr>\n",
       "    <tr>\n",
       "      <th>47996</th>\n",
       "      <td>95996</td>\n",
       "      <td>20</td>\n",
       "      <td>thread</td>\n",
       "      <td>1</td>\n",
       "      <td>train</td>\n",
       "    </tr>\n",
       "    <tr>\n",
       "      <th>47997</th>\n",
       "      <td>95997</td>\n",
       "      <td>140</td>\n",
       "      <td>thread</td>\n",
       "      <td>1</td>\n",
       "      <td>train</td>\n",
       "    </tr>\n",
       "    <tr>\n",
       "      <th>47998</th>\n",
       "      <td>95998</td>\n",
       "      <td>120</td>\n",
       "      <td>thread</td>\n",
       "      <td>1</td>\n",
       "      <td>train</td>\n",
       "    </tr>\n",
       "    <tr>\n",
       "      <th>47999</th>\n",
       "      <td>95999</td>\n",
       "      <td>120</td>\n",
       "      <td>thread</td>\n",
       "      <td>1</td>\n",
       "      <td>train</td>\n",
       "    </tr>\n",
       "  </tbody>\n",
       "</table>\n",
       "<p>48000 rows × 5 columns</p>\n",
       "</div>"
      ],
      "text/plain": [
       "       index  angle indication_type  indication_value  split\n",
       "0      48000      0            good                 0  train\n",
       "1      48001     80            good                 0  train\n",
       "2      48002    100            good                 0  train\n",
       "3      48003    100            good                 0  train\n",
       "4      48004      0            good                 0  train\n",
       "...      ...    ...             ...               ...    ...\n",
       "47995  95995     20          thread                 1  train\n",
       "47996  95996     20          thread                 1  train\n",
       "47997  95997    140          thread                 1  train\n",
       "47998  95998    120          thread                 1  train\n",
       "47999  95999    120          thread                 1  train\n",
       "\n",
       "[48000 rows x 5 columns]"
      ]
     },
     "execution_count": 29,
     "metadata": {},
     "output_type": "execute_result"
    }
   ],
   "source": [
    "train_df"
   ]
  },
  {
   "cell_type": "code",
   "execution_count": 8,
   "id": "unusual-patch",
   "metadata": {},
   "outputs": [],
   "source": [
    "tlist=[None]*48000"
   ]
  },
  {
   "cell_type": "code",
   "execution_count": 9,
   "id": "early-charlotte",
   "metadata": {},
   "outputs": [],
   "source": [
    "for i in range(0,48000):\n",
    "    tlist[i]=images[i]"
   ]
  },
  {
   "cell_type": "code",
   "execution_count": 10,
   "id": "generous-stretch",
   "metadata": {},
   "outputs": [],
   "source": [
    "train_df.insert(2, \"im\", tlist, True)"
   ]
  },
  {
   "cell_type": "code",
   "execution_count": 11,
   "id": "better-mouse",
   "metadata": {},
   "outputs": [],
   "source": [
    "train_df=train_df[train_df[\"angle\"]==0]"
   ]
  },
  {
   "cell_type": "code",
   "execution_count": 12,
   "id": "fifteen-inventory",
   "metadata": {},
   "outputs": [],
   "source": [
    "train_df=shuffle(train_df)"
   ]
  },
  {
   "cell_type": "code",
   "execution_count": 35,
   "id": "white-bargain",
   "metadata": {},
   "outputs": [
    {
     "data": {
      "text/html": [
       "<div>\n",
       "<style scoped>\n",
       "    .dataframe tbody tr th:only-of-type {\n",
       "        vertical-align: middle;\n",
       "    }\n",
       "\n",
       "    .dataframe tbody tr th {\n",
       "        vertical-align: top;\n",
       "    }\n",
       "\n",
       "    .dataframe thead th {\n",
       "        text-align: right;\n",
       "    }\n",
       "</style>\n",
       "<table border=\"1\" class=\"dataframe\">\n",
       "  <thead>\n",
       "    <tr style=\"text-align: right;\">\n",
       "      <th></th>\n",
       "      <th>index</th>\n",
       "      <th>angle</th>\n",
       "      <th>im</th>\n",
       "      <th>indication_type</th>\n",
       "      <th>indication_value</th>\n",
       "      <th>split</th>\n",
       "    </tr>\n",
       "  </thead>\n",
       "  <tbody>\n",
       "    <tr>\n",
       "      <th>9339</th>\n",
       "      <td>57339</td>\n",
       "      <td>0</td>\n",
       "      <td>[[[0.08319333], [0.07368353], [0.06921137], [0...</td>\n",
       "      <td>color</td>\n",
       "      <td>1</td>\n",
       "      <td>train</td>\n",
       "    </tr>\n",
       "    <tr>\n",
       "      <th>17289</th>\n",
       "      <td>65289</td>\n",
       "      <td>0</td>\n",
       "      <td>[[[0.31196862], [0.30858982], [0.32293686], [0...</td>\n",
       "      <td>cut</td>\n",
       "      <td>1</td>\n",
       "      <td>train</td>\n",
       "    </tr>\n",
       "    <tr>\n",
       "      <th>43105</th>\n",
       "      <td>91105</td>\n",
       "      <td>0</td>\n",
       "      <td>[[[0.46519256], [0.49716118], [0.54279846], [0...</td>\n",
       "      <td>thread</td>\n",
       "      <td>1</td>\n",
       "      <td>train</td>\n",
       "    </tr>\n",
       "    <tr>\n",
       "      <th>20084</th>\n",
       "      <td>68084</td>\n",
       "      <td>0</td>\n",
       "      <td>[[[0.08488274], [0.080693334], [0.08433215], [...</td>\n",
       "      <td>cut</td>\n",
       "      <td>1</td>\n",
       "      <td>train</td>\n",
       "    </tr>\n",
       "    <tr>\n",
       "      <th>7006</th>\n",
       "      <td>55006</td>\n",
       "      <td>0</td>\n",
       "      <td>[[[0.21369137], [0.20918156], [0.22680235], [0...</td>\n",
       "      <td>good</td>\n",
       "      <td>0</td>\n",
       "      <td>train</td>\n",
       "    </tr>\n",
       "    <tr>\n",
       "      <th>...</th>\n",
       "      <td>...</td>\n",
       "      <td>...</td>\n",
       "      <td>...</td>\n",
       "      <td>...</td>\n",
       "      <td>...</td>\n",
       "      <td>...</td>\n",
       "    </tr>\n",
       "    <tr>\n",
       "      <th>2032</th>\n",
       "      <td>50032</td>\n",
       "      <td>0</td>\n",
       "      <td>[[[0.19357058], [0.24202824], [0.33004472], [0...</td>\n",
       "      <td>good</td>\n",
       "      <td>0</td>\n",
       "      <td>train</td>\n",
       "    </tr>\n",
       "    <tr>\n",
       "      <th>24245</th>\n",
       "      <td>72245</td>\n",
       "      <td>0</td>\n",
       "      <td>[[[0.51591295], [0.49632], [0.4627451], [0.450...</td>\n",
       "      <td>hole</td>\n",
       "      <td>1</td>\n",
       "      <td>train</td>\n",
       "    </tr>\n",
       "    <tr>\n",
       "      <th>2046</th>\n",
       "      <td>50046</td>\n",
       "      <td>0</td>\n",
       "      <td>[[[0.27838588], [0.2528694], [0.20980746], [0....</td>\n",
       "      <td>good</td>\n",
       "      <td>0</td>\n",
       "      <td>train</td>\n",
       "    </tr>\n",
       "    <tr>\n",
       "      <th>5458</th>\n",
       "      <td>53458</td>\n",
       "      <td>0</td>\n",
       "      <td>[[[0.4538157], [0.43693805], [0.4058404], [0.4...</td>\n",
       "      <td>good</td>\n",
       "      <td>0</td>\n",
       "      <td>train</td>\n",
       "    </tr>\n",
       "    <tr>\n",
       "      <th>10966</th>\n",
       "      <td>58966</td>\n",
       "      <td>0</td>\n",
       "      <td>[[[0.13052], [0.122409016], [0.12744667], [0.1...</td>\n",
       "      <td>color</td>\n",
       "      <td>1</td>\n",
       "      <td>train</td>\n",
       "    </tr>\n",
       "  </tbody>\n",
       "</table>\n",
       "<p>6020 rows × 6 columns</p>\n",
       "</div>"
      ],
      "text/plain": [
       "       index  angle                                                 im  \\\n",
       "9339   57339      0  [[[0.08319333], [0.07368353], [0.06921137], [0...   \n",
       "17289  65289      0  [[[0.31196862], [0.30858982], [0.32293686], [0...   \n",
       "43105  91105      0  [[[0.46519256], [0.49716118], [0.54279846], [0...   \n",
       "20084  68084      0  [[[0.08488274], [0.080693334], [0.08433215], [...   \n",
       "7006   55006      0  [[[0.21369137], [0.20918156], [0.22680235], [0...   \n",
       "...      ...    ...                                                ...   \n",
       "2032   50032      0  [[[0.19357058], [0.24202824], [0.33004472], [0...   \n",
       "24245  72245      0  [[[0.51591295], [0.49632], [0.4627451], [0.450...   \n",
       "2046   50046      0  [[[0.27838588], [0.2528694], [0.20980746], [0....   \n",
       "5458   53458      0  [[[0.4538157], [0.43693805], [0.4058404], [0.4...   \n",
       "10966  58966      0  [[[0.13052], [0.122409016], [0.12744667], [0.1...   \n",
       "\n",
       "      indication_type  indication_value  split  \n",
       "9339            color                 1  train  \n",
       "17289             cut                 1  train  \n",
       "43105          thread                 1  train  \n",
       "20084             cut                 1  train  \n",
       "7006             good                 0  train  \n",
       "...               ...               ...    ...  \n",
       "2032             good                 0  train  \n",
       "24245            hole                 1  train  \n",
       "2046             good                 0  train  \n",
       "5458             good                 0  train  \n",
       "10966           color                 1  train  \n",
       "\n",
       "[6020 rows x 6 columns]"
      ]
     },
     "execution_count": 35,
     "metadata": {},
     "output_type": "execute_result"
    }
   ],
   "source": [
    "train_df"
   ]
  },
  {
   "cell_type": "code",
   "execution_count": 13,
   "id": "unique-magnet",
   "metadata": {},
   "outputs": [],
   "source": [
    "train_df = train_df.sample(frac=1).reset_index(drop=True)"
   ]
  },
  {
   "cell_type": "code",
   "execution_count": 37,
   "id": "polyphonic-riverside",
   "metadata": {},
   "outputs": [
    {
     "data": {
      "text/html": [
       "<div>\n",
       "<style scoped>\n",
       "    .dataframe tbody tr th:only-of-type {\n",
       "        vertical-align: middle;\n",
       "    }\n",
       "\n",
       "    .dataframe tbody tr th {\n",
       "        vertical-align: top;\n",
       "    }\n",
       "\n",
       "    .dataframe thead th {\n",
       "        text-align: right;\n",
       "    }\n",
       "</style>\n",
       "<table border=\"1\" class=\"dataframe\">\n",
       "  <thead>\n",
       "    <tr style=\"text-align: right;\">\n",
       "      <th></th>\n",
       "      <th>index</th>\n",
       "      <th>angle</th>\n",
       "      <th>im</th>\n",
       "      <th>indication_type</th>\n",
       "      <th>indication_value</th>\n",
       "      <th>split</th>\n",
       "    </tr>\n",
       "  </thead>\n",
       "  <tbody>\n",
       "    <tr>\n",
       "      <th>0</th>\n",
       "      <td>91163</td>\n",
       "      <td>0</td>\n",
       "      <td>[[[0.42154235], [0.45266902], [0.47255254], [0...</td>\n",
       "      <td>thread</td>\n",
       "      <td>1</td>\n",
       "      <td>train</td>\n",
       "    </tr>\n",
       "    <tr>\n",
       "      <th>1</th>\n",
       "      <td>87074</td>\n",
       "      <td>0</td>\n",
       "      <td>[[[0.21958509], [0.20950197], [0.21335608], [0...</td>\n",
       "      <td>metal_contamination</td>\n",
       "      <td>5</td>\n",
       "      <td>train</td>\n",
       "    </tr>\n",
       "    <tr>\n",
       "      <th>2</th>\n",
       "      <td>80713</td>\n",
       "      <td>0</td>\n",
       "      <td>[[[0.38594276], [0.35127452], [0.39125606], [0...</td>\n",
       "      <td>metal_contamination</td>\n",
       "      <td>5</td>\n",
       "      <td>train</td>\n",
       "    </tr>\n",
       "    <tr>\n",
       "      <th>3</th>\n",
       "      <td>82233</td>\n",
       "      <td>0</td>\n",
       "      <td>[[[0.37229607], [0.40198705], [0.41403452], [0...</td>\n",
       "      <td>metal_contamination</td>\n",
       "      <td>5</td>\n",
       "      <td>train</td>\n",
       "    </tr>\n",
       "    <tr>\n",
       "      <th>4</th>\n",
       "      <td>95662</td>\n",
       "      <td>0</td>\n",
       "      <td>[[[0.39132354], [0.364691], [0.3330051], [0.33...</td>\n",
       "      <td>thread</td>\n",
       "      <td>1</td>\n",
       "      <td>train</td>\n",
       "    </tr>\n",
       "    <tr>\n",
       "      <th>...</th>\n",
       "      <td>...</td>\n",
       "      <td>...</td>\n",
       "      <td>...</td>\n",
       "      <td>...</td>\n",
       "      <td>...</td>\n",
       "      <td>...</td>\n",
       "    </tr>\n",
       "    <tr>\n",
       "      <th>6015</th>\n",
       "      <td>76214</td>\n",
       "      <td>0</td>\n",
       "      <td>[[[0.4761843], [0.5257431], [0.5705549], [0.58...</td>\n",
       "      <td>hole</td>\n",
       "      <td>1</td>\n",
       "      <td>train</td>\n",
       "    </tr>\n",
       "    <tr>\n",
       "      <th>6016</th>\n",
       "      <td>78681</td>\n",
       "      <td>0</td>\n",
       "      <td>[[[0.5266141], [0.51264703], [0.51369566], [0....</td>\n",
       "      <td>hole</td>\n",
       "      <td>1</td>\n",
       "      <td>train</td>\n",
       "    </tr>\n",
       "    <tr>\n",
       "      <th>6017</th>\n",
       "      <td>88651</td>\n",
       "      <td>0</td>\n",
       "      <td>[[[0.38736433], [0.3319643], [0.34628943], [0....</td>\n",
       "      <td>thread</td>\n",
       "      <td>1</td>\n",
       "      <td>train</td>\n",
       "    </tr>\n",
       "    <tr>\n",
       "      <th>6018</th>\n",
       "      <td>59797</td>\n",
       "      <td>0</td>\n",
       "      <td>[[[0.14798588], [0.21931726], [0.22404942], [0...</td>\n",
       "      <td>color</td>\n",
       "      <td>1</td>\n",
       "      <td>train</td>\n",
       "    </tr>\n",
       "    <tr>\n",
       "      <th>6019</th>\n",
       "      <td>82628</td>\n",
       "      <td>0</td>\n",
       "      <td>[[[0.36131215], [0.4237596], [0.43605214], [0....</td>\n",
       "      <td>metal_contamination</td>\n",
       "      <td>5</td>\n",
       "      <td>train</td>\n",
       "    </tr>\n",
       "  </tbody>\n",
       "</table>\n",
       "<p>6020 rows × 6 columns</p>\n",
       "</div>"
      ],
      "text/plain": [
       "      index  angle                                                 im  \\\n",
       "0     91163      0  [[[0.42154235], [0.45266902], [0.47255254], [0...   \n",
       "1     87074      0  [[[0.21958509], [0.20950197], [0.21335608], [0...   \n",
       "2     80713      0  [[[0.38594276], [0.35127452], [0.39125606], [0...   \n",
       "3     82233      0  [[[0.37229607], [0.40198705], [0.41403452], [0...   \n",
       "4     95662      0  [[[0.39132354], [0.364691], [0.3330051], [0.33...   \n",
       "...     ...    ...                                                ...   \n",
       "6015  76214      0  [[[0.4761843], [0.5257431], [0.5705549], [0.58...   \n",
       "6016  78681      0  [[[0.5266141], [0.51264703], [0.51369566], [0....   \n",
       "6017  88651      0  [[[0.38736433], [0.3319643], [0.34628943], [0....   \n",
       "6018  59797      0  [[[0.14798588], [0.21931726], [0.22404942], [0...   \n",
       "6019  82628      0  [[[0.36131215], [0.4237596], [0.43605214], [0....   \n",
       "\n",
       "          indication_type  indication_value  split  \n",
       "0                  thread                 1  train  \n",
       "1     metal_contamination                 5  train  \n",
       "2     metal_contamination                 5  train  \n",
       "3     metal_contamination                 5  train  \n",
       "4                  thread                 1  train  \n",
       "...                   ...               ...    ...  \n",
       "6015                 hole                 1  train  \n",
       "6016                 hole                 1  train  \n",
       "6017               thread                 1  train  \n",
       "6018                color                 1  train  \n",
       "6019  metal_contamination                 5  train  \n",
       "\n",
       "[6020 rows x 6 columns]"
      ]
     },
     "execution_count": 37,
     "metadata": {},
     "output_type": "execute_result"
    }
   ],
   "source": [
    "train_df"
   ]
  },
  {
   "cell_type": "code",
   "execution_count": 14,
   "id": "focused-hawaii",
   "metadata": {},
   "outputs": [],
   "source": [
    "im_arr=train_df[\"im\"]"
   ]
  },
  {
   "cell_type": "code",
   "execution_count": 15,
   "id": "massive-designation",
   "metadata": {},
   "outputs": [],
   "source": [
    "im_arr.shape\n",
    "\n",
    "im_arr=im_arr.tolist()"
   ]
  },
  {
   "cell_type": "code",
   "execution_count": 16,
   "id": "collectible-graphic",
   "metadata": {},
   "outputs": [],
   "source": [
    "im_arr=np.concatenate([arr[np.newaxis] for arr in im_arr])"
   ]
  },
  {
   "cell_type": "code",
   "execution_count": 17,
   "id": "sharp-literature",
   "metadata": {},
   "outputs": [
    {
     "data": {
      "text/plain": [
       "(6020, 64, 64, 1)"
      ]
     },
     "execution_count": 17,
     "metadata": {},
     "output_type": "execute_result"
    }
   ],
   "source": [
    "im_arr.shape"
   ]
  },
  {
   "cell_type": "code",
   "execution_count": 18,
   "id": "medical-limitation",
   "metadata": {},
   "outputs": [],
   "source": [
    "label=train_df['indication_value']"
   ]
  },
  {
   "cell_type": "code",
   "execution_count": 19,
   "id": "occasional-accordance",
   "metadata": {},
   "outputs": [],
   "source": [
    "label=label.to_numpy()"
   ]
  },
  {
   "cell_type": "code",
   "execution_count": 20,
   "id": "spiritual-mercury",
   "metadata": {},
   "outputs": [],
   "source": [
    "m=label.shape[0]"
   ]
  },
  {
   "cell_type": "code",
   "execution_count": 21,
   "id": "accredited-confidentiality",
   "metadata": {},
   "outputs": [
    {
     "data": {
      "text/plain": [
       "6020"
      ]
     },
     "execution_count": 21,
     "metadata": {},
     "output_type": "execute_result"
    }
   ],
   "source": [
    "m"
   ]
  },
  {
   "cell_type": "code",
   "execution_count": 22,
   "id": "welsh-highway",
   "metadata": {},
   "outputs": [],
   "source": [
    "label=label.reshape(1,m)"
   ]
  },
  {
   "cell_type": "code",
   "execution_count": 23,
   "id": "assisted-washington",
   "metadata": {},
   "outputs": [
    {
     "data": {
      "text/plain": [
       "array([[1, 1, 1, ..., 0, 0, 1]], dtype=int64)"
      ]
     },
     "execution_count": 23,
     "metadata": {},
     "output_type": "execute_result"
    }
   ],
   "source": [
    "label"
   ]
  },
  {
   "cell_type": "code",
   "execution_count": 24,
   "id": "relevant-detector",
   "metadata": {},
   "outputs": [],
   "source": [
    "num_row=im_arr.shape[0]"
   ]
  },
  {
   "cell_type": "code",
   "execution_count": 25,
   "id": "found-moderator",
   "metadata": {},
   "outputs": [
    {
     "data": {
      "text/plain": [
       "6020"
      ]
     },
     "execution_count": 25,
     "metadata": {},
     "output_type": "execute_result"
    }
   ],
   "source": [
    "num_row"
   ]
  },
  {
   "cell_type": "code",
   "execution_count": 26,
   "id": "lucky-barbados",
   "metadata": {},
   "outputs": [],
   "source": [
    "pix=64"
   ]
  },
  {
   "cell_type": "code",
   "execution_count": 27,
   "id": "catholic-attraction",
   "metadata": {},
   "outputs": [
    {
     "data": {
      "text/plain": [
       "(6020, 64, 64, 1)"
      ]
     },
     "execution_count": 27,
     "metadata": {},
     "output_type": "execute_result"
    }
   ],
   "source": [
    "im_arr.shape"
   ]
  },
  {
   "cell_type": "code",
   "execution_count": 28,
   "id": "quantitative-method",
   "metadata": {},
   "outputs": [],
   "source": [
    "train_xun = im_arr.reshape(im_arr.shape[0],-1).T"
   ]
  },
  {
   "cell_type": "code",
   "execution_count": 29,
   "id": "acquired-james",
   "metadata": {},
   "outputs": [
    {
     "data": {
      "text/plain": [
       "(4096, 6020)"
      ]
     },
     "execution_count": 29,
     "metadata": {},
     "output_type": "execute_result"
    }
   ],
   "source": [
    "train_xun.shape"
   ]
  },
  {
   "cell_type": "code",
   "execution_count": 30,
   "id": "creative-pilot",
   "metadata": {},
   "outputs": [],
   "source": [
    "train_xun = train_xun/255."
   ]
  },
  {
   "cell_type": "code",
   "execution_count": 31,
   "id": "careful-expense",
   "metadata": {},
   "outputs": [],
   "source": [
    "#layer sizes\n",
    "n_x=4096\n",
    "n_1=5\n",
    "n_2=5\n",
    "n_y=1"
   ]
  },
  {
   "cell_type": "code",
   "execution_count": 32,
   "id": "outside-integral",
   "metadata": {},
   "outputs": [],
   "source": [
    "def initial_params(n_x,n_1,n_2,n_y):\n",
    "    w1=np.random.rand(n_1,n_x)/100\n",
    "    b1=np.random.rand(n_1,1)/100\n",
    "    w2=np.random.rand(n_2,n_1)/100\n",
    "    b2=np.random.rand(n_2,1)/100\n",
    "    w3=np.random.rand(n_y,n_2)/100\n",
    "    b3=np.random.rand(n_y,1)/100\n",
    "    \n",
    "    params={\"w1\":w1,\"b1\":b1,\"w2\":w2,\"b2\":b2,\"w3\":w3,\"b3\":b3}\n",
    "    \n",
    "    return params"
   ]
  },
  {
   "cell_type": "code",
   "execution_count": 33,
   "id": "mobile-flour",
   "metadata": {},
   "outputs": [],
   "source": [
    "def forward(train_xun,params):\n",
    "    w1=params[\"w1\"]\n",
    "    b1=params[\"b1\"]\n",
    "    w2=params[\"w2\"]\n",
    "    b2=params[\"b2\"]\n",
    "    w3=params[\"w3\"]\n",
    "    b3=params[\"b3\"]\n",
    "    \n",
    "    z1 = np.dot(w1,train_xun)+b1\n",
    "    a1 = np.tanh(z1)\n",
    "    z2 = np.dot(w2,a1)+b2\n",
    "    a2 = np.tanh(z2)\n",
    "    z3 = np.dot(w3,a2)+b3\n",
    "    a3 = sigmoid(z3)\n",
    "    \n",
    "    vals={\"z1\":z1,\"a1\":a1,\"z2\":z2,\"a2\":a2,\"z3\":z3,\"a3\":a3}\n",
    "    \n",
    "    return a3,vals"
   ]
  },
  {
   "cell_type": "code",
   "execution_count": 34,
   "id": "patent-found",
   "metadata": {},
   "outputs": [],
   "source": [
    "def cost(a3,label,m):\n",
    "    log = np.multiply(label,np.log(a3))+np.multiply(1-label,np.log(1-a3))\n",
    "    cost = - np.sum(log)/m\n",
    "    cost = float(np.squeeze(cost))\n",
    "    return cost\n",
    "    "
   ]
  },
  {
   "cell_type": "code",
   "execution_count": 35,
   "id": "structural-playback",
   "metadata": {},
   "outputs": [],
   "source": [
    "def backprop(params,vals,train_xun,label,m):\n",
    "    w1 = params[\"w1\"]\n",
    "    w2 = params[\"w2\"]\n",
    "    w3 = params[\"w3\"]\n",
    "        \n",
    "    a1 = vals[\"a1\"]\n",
    "    a2 = vals[\"a2\"]\n",
    "    a3 = vals[\"a3\"]\n",
    "    \n",
    "    z1 = vals[\"z1\"]\n",
    "    z2 = vals[\"z2\"]\n",
    "    z3 = vals[\"z3\"]\n",
    "    \n",
    "    dz3 = (a3-label)\n",
    "    dw3 = (1/m)*np.dot(dz3,np.transpose(a2))\n",
    "    db3 = (1/m)*np.sum(dz3, axis = 1, keepdims=True)\n",
    "    \n",
    "    dz2 = np.multiply(np.dot(np.transpose(w3),dz3),(1-np.square(a2)))\n",
    "    dw2 = (1/m)*np.dot(dz2,np.transpose(a1))\n",
    "    db2 = (1/m)*np.sum(dz2, axis = 1, keepdims=True)\n",
    "    \n",
    "    dz1 = np.multiply(np.dot(np.transpose(w2),dz2),(1-np.square(a1)))\n",
    "    dw1 = (1/m)*np.dot(dz1,np.transpose(train_xun))\n",
    "    db1 = (1/m)*np.sum(dz1, axis = 1, keepdims=True)\n",
    "    \n",
    "    upds  = {\"dw1\": dw1,\n",
    "             \"db1\": db1,\n",
    "             \"dw2\": dw2,\n",
    "             \"db2\": db2,\n",
    "             \"dw3\": dw3,\n",
    "             \"db3\": db3}\n",
    "    \n",
    "    return upds"
   ]
  },
  {
   "cell_type": "code",
   "execution_count": 36,
   "id": "periodic-thanksgiving",
   "metadata": {},
   "outputs": [],
   "source": [
    "def update(params,upds,learn_rate):\n",
    "    w1 = params[\"w1\"]\n",
    "    b1 = params[\"b1\"]\n",
    "    w2 = params[\"w2\"]\n",
    "    b2 = params[\"b2\"]\n",
    "    w3 = params[\"w3\"]\n",
    "    b3 = params[\"b3\"]\n",
    "\n",
    "    dw1 = upds[\"dw1\"]\n",
    "    db1 = upds[\"db1\"]\n",
    "    dw2 = upds[\"dw2\"]\n",
    "    db2 = upds[\"db2\"]\n",
    "    dw3 = upds[\"dw3\"]\n",
    "    db3 = upds[\"db3\"]\n",
    "    \n",
    "    w1 = w1-(learn_rate*dw1)\n",
    "    b1 = b1-(learn_rate*db1)\n",
    "    w2 = w2-(learn_rate*dw2)\n",
    "    b2 = b2-(learn_rate*db2)\n",
    "    w3 = w3-(learn_rate*dw3)\n",
    "    b3 = b3-(learn_rate*db3)\n",
    "    \n",
    "    params={\"w1\":w1,\"b1\":b1,\"w2\":w2,\"b2\":b2,\"w3\":w3,\"b3\":b3}\n",
    "    \n",
    "    return params"
   ]
  },
  {
   "cell_type": "code",
   "execution_count": 37,
   "id": "recorded-emperor",
   "metadata": {},
   "outputs": [],
   "source": [
    "def nnetwork(n_x, n_1, n_2, n_y, train_xun ,label ,num_iter, learn_rate ,start=False):\n",
    "    params=initial_params(n_x,n_1,n_2,n_y)\n",
    "    \n",
    "    for i in range(0,num_iter):\n",
    "        a3,vals=forward(train_xun,params)\n",
    "        \n",
    "        costs=cost(a3,label,m)\n",
    "        \n",
    "        upds=backprop(params,vals,train_xun,label,m)\n",
    "        \n",
    "        params=update(params,upds,learn_rate)\n",
    "        \n",
    "        if start and i % 100 == 0:\n",
    "            print (\"Cost after iteration {}: {}\" .format(i, costs))\n",
    "    return params"
   ]
  },
  {
   "cell_type": "code",
   "execution_count": 38,
   "id": "plastic-history",
   "metadata": {},
   "outputs": [
    {
     "name": "stdout",
     "output_type": "stream",
     "text": [
      "Cost after iteration 0: 0.6909587637992197\n",
      "Cost after iteration 100: 0.4565709433331416\n",
      "Cost after iteration 200: 0.45657070934801003\n",
      "Cost after iteration 300: 0.45657050721154374\n",
      "Cost after iteration 400: 0.4565703177100441\n",
      "Cost after iteration 500: 0.4565701228517371\n",
      "Cost after iteration 600: 0.45656990413202847\n",
      "Cost after iteration 700: 0.4565696407461901\n",
      "Cost after iteration 800: 0.45656930756532427\n",
      "Cost after iteration 900: 0.45656887266148705\n"
     ]
    }
   ],
   "source": [
    "params=nnetwork(n_x,n_1,n_2,n_y,train_xun,label,1000,2,start=True)"
   ]
  },
  {
   "cell_type": "code",
   "execution_count": 39,
   "id": "satellite-consensus",
   "metadata": {},
   "outputs": [],
   "source": [
    "def predict(train_xun,params):\n",
    "    a3,vals=forward(train_xun,params)\n",
    "    a=a3.shape[1]\n",
    "    predictions = np.zeros(a)\n",
    "    for i in range(0,a):\n",
    "        if a3[0][i]>0.5:\n",
    "            predictions[i]=1\n",
    "        else:\n",
    "            predictions[i]=0\n",
    "    \n",
    "    return predictions\n",
    "    "
   ]
  },
  {
   "cell_type": "code",
   "execution_count": 40,
   "id": "dried-attribute",
   "metadata": {},
   "outputs": [],
   "source": [
    "predi=predict(train_xun,params)"
   ]
  },
  {
   "cell_type": "code",
   "execution_count": 41,
   "id": "several-representation",
   "metadata": {},
   "outputs": [],
   "source": [
    "count=0\n",
    "for i in range(0,m):\n",
    "    if label[0][i]==predi[i]:\n",
    "        count+=1"
   ]
  },
  {
   "cell_type": "code",
   "execution_count": 42,
   "id": "handmade-young",
   "metadata": {},
   "outputs": [
    {
     "data": {
      "text/plain": [
       "82.95681063122925"
      ]
     },
     "execution_count": 42,
     "metadata": {},
     "output_type": "execute_result"
    }
   ],
   "source": [
    "accuracy=((count/m)*100)\n",
    "accuracy"
   ]
  },
  {
   "cell_type": "code",
   "execution_count": 43,
   "id": "alien-dover",
   "metadata": {},
   "outputs": [
    {
     "name": "stdout",
     "output_type": "stream",
     "text": [
      "['images']\n"
     ]
    }
   ],
   "source": [
    "with h5py.File('C:/Users/Dell/Dropbox (Old)/My PC (DESKTOP-9I2HO18)/Desktop/Textile/test64.h5','r') as hdf:\n",
    "    ls=list(hdf.keys())\n",
    "    print(ls)\n",
    "    data=hdf.get(\"images\")\n",
    "    images=np.array(data)"
   ]
  },
  {
   "cell_type": "code",
   "execution_count": 44,
   "id": "literary-report",
   "metadata": {},
   "outputs": [],
   "source": [
    "test_df=pd.read_csv('C:/Users/Dell/Dropbox (Old)/My PC (DESKTOP-9I2HO18)/Desktop/Textile/test64.csv')"
   ]
  },
  {
   "cell_type": "code",
   "execution_count": 45,
   "id": "brilliant-column",
   "metadata": {},
   "outputs": [],
   "source": [
    "test_df[\"indication_value\"].replace({3: 1, 2: 1,4:1,5:1}, inplace=True)"
   ]
  },
  {
   "cell_type": "code",
   "execution_count": 46,
   "id": "waiting-community",
   "metadata": {},
   "outputs": [],
   "source": [
    "tlist1=[None]*48000"
   ]
  },
  {
   "cell_type": "code",
   "execution_count": 47,
   "id": "partial-morris",
   "metadata": {},
   "outputs": [],
   "source": [
    "for i in range(0,48000):\n",
    "    tlist1[i]=images[i]"
   ]
  },
  {
   "cell_type": "code",
   "execution_count": 48,
   "id": "determined-scheme",
   "metadata": {},
   "outputs": [],
   "source": [
    "test_df.insert(2, \"im\", tlist1, True)"
   ]
  },
  {
   "cell_type": "code",
   "execution_count": 49,
   "id": "civilian-airline",
   "metadata": {},
   "outputs": [],
   "source": [
    "test_df=test_df[test_df[\"angle\"]==0]"
   ]
  },
  {
   "cell_type": "code",
   "execution_count": 50,
   "id": "alpine-velvet",
   "metadata": {},
   "outputs": [],
   "source": [
    "test_df=shuffle(test_df)"
   ]
  },
  {
   "cell_type": "code",
   "execution_count": 51,
   "id": "fancy-victorian",
   "metadata": {},
   "outputs": [
    {
     "data": {
      "text/html": [
       "<div>\n",
       "<style scoped>\n",
       "    .dataframe tbody tr th:only-of-type {\n",
       "        vertical-align: middle;\n",
       "    }\n",
       "\n",
       "    .dataframe tbody tr th {\n",
       "        vertical-align: top;\n",
       "    }\n",
       "\n",
       "    .dataframe thead th {\n",
       "        text-align: right;\n",
       "    }\n",
       "</style>\n",
       "<table border=\"1\" class=\"dataframe\">\n",
       "  <thead>\n",
       "    <tr style=\"text-align: right;\">\n",
       "      <th></th>\n",
       "      <th>index</th>\n",
       "      <th>angle</th>\n",
       "      <th>im</th>\n",
       "      <th>indication_type</th>\n",
       "      <th>indication_value</th>\n",
       "      <th>split</th>\n",
       "    </tr>\n",
       "  </thead>\n",
       "  <tbody>\n",
       "    <tr>\n",
       "      <th>11636</th>\n",
       "      <td>11636</td>\n",
       "      <td>0</td>\n",
       "      <td>[[[0.36960077], [0.36288863], [0.33577293], [0...</td>\n",
       "      <td>color</td>\n",
       "      <td>1</td>\n",
       "      <td>test</td>\n",
       "    </tr>\n",
       "    <tr>\n",
       "      <th>32345</th>\n",
       "      <td>32345</td>\n",
       "      <td>0</td>\n",
       "      <td>[[[0.24199843], [0.22490549], [0.21342354], [0...</td>\n",
       "      <td>metal_contamination</td>\n",
       "      <td>1</td>\n",
       "      <td>test</td>\n",
       "    </tr>\n",
       "    <tr>\n",
       "      <th>16265</th>\n",
       "      <td>16265</td>\n",
       "      <td>0</td>\n",
       "      <td>[[[0.2750149], [0.3024659], [0.3489741], [0.41...</td>\n",
       "      <td>cut</td>\n",
       "      <td>1</td>\n",
       "      <td>test</td>\n",
       "    </tr>\n",
       "    <tr>\n",
       "      <th>45984</th>\n",
       "      <td>45984</td>\n",
       "      <td>0</td>\n",
       "      <td>[[[0.57147056], [0.5661275], [0.5781302], [0.5...</td>\n",
       "      <td>thread</td>\n",
       "      <td>1</td>\n",
       "      <td>test</td>\n",
       "    </tr>\n",
       "    <tr>\n",
       "      <th>26647</th>\n",
       "      <td>26647</td>\n",
       "      <td>0</td>\n",
       "      <td>[[[0.20389098], [0.23021097], [0.23585176], [0...</td>\n",
       "      <td>hole</td>\n",
       "      <td>1</td>\n",
       "      <td>test</td>\n",
       "    </tr>\n",
       "    <tr>\n",
       "      <th>...</th>\n",
       "      <td>...</td>\n",
       "      <td>...</td>\n",
       "      <td>...</td>\n",
       "      <td>...</td>\n",
       "      <td>...</td>\n",
       "      <td>...</td>\n",
       "    </tr>\n",
       "    <tr>\n",
       "      <th>47565</th>\n",
       "      <td>47565</td>\n",
       "      <td>0</td>\n",
       "      <td>[[[0.37448353], [0.34174982], [0.30563724], [0...</td>\n",
       "      <td>thread</td>\n",
       "      <td>1</td>\n",
       "      <td>test</td>\n",
       "    </tr>\n",
       "    <tr>\n",
       "      <th>36716</th>\n",
       "      <td>36716</td>\n",
       "      <td>0</td>\n",
       "      <td>[[[0.23945294], [0.20054275], [0.16469803], [0...</td>\n",
       "      <td>metal_contamination</td>\n",
       "      <td>1</td>\n",
       "      <td>test</td>\n",
       "    </tr>\n",
       "    <tr>\n",
       "      <th>8981</th>\n",
       "      <td>8981</td>\n",
       "      <td>0</td>\n",
       "      <td>[[[0.26302785], [0.28259805], [0.2947208], [0....</td>\n",
       "      <td>color</td>\n",
       "      <td>1</td>\n",
       "      <td>test</td>\n",
       "    </tr>\n",
       "    <tr>\n",
       "      <th>30957</th>\n",
       "      <td>30957</td>\n",
       "      <td>0</td>\n",
       "      <td>[[[0.12188118], [0.13055764], [0.2047698], [0....</td>\n",
       "      <td>hole</td>\n",
       "      <td>1</td>\n",
       "      <td>test</td>\n",
       "    </tr>\n",
       "    <tr>\n",
       "      <th>22769</th>\n",
       "      <td>22769</td>\n",
       "      <td>0</td>\n",
       "      <td>[[[0.29346195], [0.3938008], [0.44980392], [0....</td>\n",
       "      <td>cut</td>\n",
       "      <td>1</td>\n",
       "      <td>test</td>\n",
       "    </tr>\n",
       "  </tbody>\n",
       "</table>\n",
       "<p>6002 rows × 6 columns</p>\n",
       "</div>"
      ],
      "text/plain": [
       "       index  angle                                                 im  \\\n",
       "11636  11636      0  [[[0.36960077], [0.36288863], [0.33577293], [0...   \n",
       "32345  32345      0  [[[0.24199843], [0.22490549], [0.21342354], [0...   \n",
       "16265  16265      0  [[[0.2750149], [0.3024659], [0.3489741], [0.41...   \n",
       "45984  45984      0  [[[0.57147056], [0.5661275], [0.5781302], [0.5...   \n",
       "26647  26647      0  [[[0.20389098], [0.23021097], [0.23585176], [0...   \n",
       "...      ...    ...                                                ...   \n",
       "47565  47565      0  [[[0.37448353], [0.34174982], [0.30563724], [0...   \n",
       "36716  36716      0  [[[0.23945294], [0.20054275], [0.16469803], [0...   \n",
       "8981    8981      0  [[[0.26302785], [0.28259805], [0.2947208], [0....   \n",
       "30957  30957      0  [[[0.12188118], [0.13055764], [0.2047698], [0....   \n",
       "22769  22769      0  [[[0.29346195], [0.3938008], [0.44980392], [0....   \n",
       "\n",
       "           indication_type  indication_value split  \n",
       "11636                color                 1  test  \n",
       "32345  metal_contamination                 1  test  \n",
       "16265                  cut                 1  test  \n",
       "45984               thread                 1  test  \n",
       "26647                 hole                 1  test  \n",
       "...                    ...               ...   ...  \n",
       "47565               thread                 1  test  \n",
       "36716  metal_contamination                 1  test  \n",
       "8981                 color                 1  test  \n",
       "30957                 hole                 1  test  \n",
       "22769                  cut                 1  test  \n",
       "\n",
       "[6002 rows x 6 columns]"
      ]
     },
     "execution_count": 51,
     "metadata": {},
     "output_type": "execute_result"
    }
   ],
   "source": [
    "test_df"
   ]
  },
  {
   "cell_type": "code",
   "execution_count": 52,
   "id": "local-silence",
   "metadata": {},
   "outputs": [],
   "source": [
    "test_df = test_df.sample(frac=1).reset_index(drop=True)"
   ]
  },
  {
   "cell_type": "code",
   "execution_count": 96,
   "id": "charitable-imaging",
   "metadata": {},
   "outputs": [
    {
     "data": {
      "text/html": [
       "<div>\n",
       "<style scoped>\n",
       "    .dataframe tbody tr th:only-of-type {\n",
       "        vertical-align: middle;\n",
       "    }\n",
       "\n",
       "    .dataframe tbody tr th {\n",
       "        vertical-align: top;\n",
       "    }\n",
       "\n",
       "    .dataframe thead th {\n",
       "        text-align: right;\n",
       "    }\n",
       "</style>\n",
       "<table border=\"1\" class=\"dataframe\">\n",
       "  <thead>\n",
       "    <tr style=\"text-align: right;\">\n",
       "      <th></th>\n",
       "      <th>index</th>\n",
       "      <th>angle</th>\n",
       "      <th>im</th>\n",
       "      <th>indication_type</th>\n",
       "      <th>indication_value</th>\n",
       "      <th>split</th>\n",
       "    </tr>\n",
       "  </thead>\n",
       "  <tbody>\n",
       "    <tr>\n",
       "      <th>0</th>\n",
       "      <td>30042</td>\n",
       "      <td>0</td>\n",
       "      <td>[[[0.4074702], [0.40331843], [0.3879902], [0.4...</td>\n",
       "      <td>hole</td>\n",
       "      <td>1</td>\n",
       "      <td>test</td>\n",
       "    </tr>\n",
       "    <tr>\n",
       "      <th>1</th>\n",
       "      <td>46462</td>\n",
       "      <td>0</td>\n",
       "      <td>[[[0.33387607], [0.34205452], [0.34793332], [0...</td>\n",
       "      <td>thread</td>\n",
       "      <td>1</td>\n",
       "      <td>test</td>\n",
       "    </tr>\n",
       "    <tr>\n",
       "      <th>2</th>\n",
       "      <td>18076</td>\n",
       "      <td>0</td>\n",
       "      <td>[[[0.36667803], [0.42340156], [0.3757992], [0....</td>\n",
       "      <td>cut</td>\n",
       "      <td>1</td>\n",
       "      <td>test</td>\n",
       "    </tr>\n",
       "    <tr>\n",
       "      <th>3</th>\n",
       "      <td>21309</td>\n",
       "      <td>0</td>\n",
       "      <td>[[[0.3749737], [0.31812158], [0.28616863], [0....</td>\n",
       "      <td>cut</td>\n",
       "      <td>1</td>\n",
       "      <td>test</td>\n",
       "    </tr>\n",
       "    <tr>\n",
       "      <th>4</th>\n",
       "      <td>42963</td>\n",
       "      <td>0</td>\n",
       "      <td>[[[0.7189039], [0.71894157], [0.6962604], [0.6...</td>\n",
       "      <td>thread</td>\n",
       "      <td>1</td>\n",
       "      <td>test</td>\n",
       "    </tr>\n",
       "    <tr>\n",
       "      <th>...</th>\n",
       "      <td>...</td>\n",
       "      <td>...</td>\n",
       "      <td>...</td>\n",
       "      <td>...</td>\n",
       "      <td>...</td>\n",
       "      <td>...</td>\n",
       "    </tr>\n",
       "    <tr>\n",
       "      <th>5997</th>\n",
       "      <td>19868</td>\n",
       "      <td>0</td>\n",
       "      <td>[[[0.39368784], [0.42287374], [0.42309687], [0...</td>\n",
       "      <td>cut</td>\n",
       "      <td>1</td>\n",
       "      <td>test</td>\n",
       "    </tr>\n",
       "    <tr>\n",
       "      <th>5998</th>\n",
       "      <td>18485</td>\n",
       "      <td>0</td>\n",
       "      <td>[[[0.2700298], [0.30772668], [0.37559175], [0....</td>\n",
       "      <td>cut</td>\n",
       "      <td>1</td>\n",
       "      <td>test</td>\n",
       "    </tr>\n",
       "    <tr>\n",
       "      <th>5999</th>\n",
       "      <td>14771</td>\n",
       "      <td>0</td>\n",
       "      <td>[[[0.4254192], [0.6131039], [0.68203336], [0.6...</td>\n",
       "      <td>color</td>\n",
       "      <td>1</td>\n",
       "      <td>test</td>\n",
       "    </tr>\n",
       "    <tr>\n",
       "      <th>6000</th>\n",
       "      <td>20150</td>\n",
       "      <td>0</td>\n",
       "      <td>[[[0.41733804], [0.4657659], [0.4811843], [0.5...</td>\n",
       "      <td>cut</td>\n",
       "      <td>1</td>\n",
       "      <td>test</td>\n",
       "    </tr>\n",
       "    <tr>\n",
       "      <th>6001</th>\n",
       "      <td>3368</td>\n",
       "      <td>0</td>\n",
       "      <td>[[[0.6413086], [0.6448721], [0.6451173], [0.62...</td>\n",
       "      <td>good</td>\n",
       "      <td>0</td>\n",
       "      <td>test</td>\n",
       "    </tr>\n",
       "  </tbody>\n",
       "</table>\n",
       "<p>6002 rows × 6 columns</p>\n",
       "</div>"
      ],
      "text/plain": [
       "      index  angle                                                 im  \\\n",
       "0     30042      0  [[[0.4074702], [0.40331843], [0.3879902], [0.4...   \n",
       "1     46462      0  [[[0.33387607], [0.34205452], [0.34793332], [0...   \n",
       "2     18076      0  [[[0.36667803], [0.42340156], [0.3757992], [0....   \n",
       "3     21309      0  [[[0.3749737], [0.31812158], [0.28616863], [0....   \n",
       "4     42963      0  [[[0.7189039], [0.71894157], [0.6962604], [0.6...   \n",
       "...     ...    ...                                                ...   \n",
       "5997  19868      0  [[[0.39368784], [0.42287374], [0.42309687], [0...   \n",
       "5998  18485      0  [[[0.2700298], [0.30772668], [0.37559175], [0....   \n",
       "5999  14771      0  [[[0.4254192], [0.6131039], [0.68203336], [0.6...   \n",
       "6000  20150      0  [[[0.41733804], [0.4657659], [0.4811843], [0.5...   \n",
       "6001   3368      0  [[[0.6413086], [0.6448721], [0.6451173], [0.62...   \n",
       "\n",
       "     indication_type  indication_value split  \n",
       "0               hole                 1  test  \n",
       "1             thread                 1  test  \n",
       "2                cut                 1  test  \n",
       "3                cut                 1  test  \n",
       "4             thread                 1  test  \n",
       "...              ...               ...   ...  \n",
       "5997             cut                 1  test  \n",
       "5998             cut                 1  test  \n",
       "5999           color                 1  test  \n",
       "6000             cut                 1  test  \n",
       "6001            good                 0  test  \n",
       "\n",
       "[6002 rows x 6 columns]"
      ]
     },
     "execution_count": 96,
     "metadata": {},
     "output_type": "execute_result"
    }
   ],
   "source": [
    "test_df"
   ]
  },
  {
   "cell_type": "code",
   "execution_count": 53,
   "id": "changing-impression",
   "metadata": {},
   "outputs": [],
   "source": [
    "im_arr1=test_df[\"im\"]"
   ]
  },
  {
   "cell_type": "code",
   "execution_count": 54,
   "id": "super-arrangement",
   "metadata": {},
   "outputs": [
    {
     "data": {
      "text/plain": [
       "(6002,)"
      ]
     },
     "execution_count": 54,
     "metadata": {},
     "output_type": "execute_result"
    }
   ],
   "source": [
    "im_arr1.shape"
   ]
  },
  {
   "cell_type": "code",
   "execution_count": 55,
   "id": "embedded-karen",
   "metadata": {},
   "outputs": [],
   "source": [
    "im_arr1=im_arr1.tolist()"
   ]
  },
  {
   "cell_type": "code",
   "execution_count": 56,
   "id": "ancient-durham",
   "metadata": {},
   "outputs": [],
   "source": [
    "im_arr1=np.concatenate([arr[np.newaxis] for arr in im_arr1])"
   ]
  },
  {
   "cell_type": "code",
   "execution_count": 57,
   "id": "mighty-arizona",
   "metadata": {},
   "outputs": [
    {
     "data": {
      "text/plain": [
       "(6002, 64, 64, 1)"
      ]
     },
     "execution_count": 57,
     "metadata": {},
     "output_type": "execute_result"
    }
   ],
   "source": [
    "im_arr1.shape"
   ]
  },
  {
   "cell_type": "code",
   "execution_count": 58,
   "id": "decreased-plate",
   "metadata": {},
   "outputs": [],
   "source": [
    "lab=test_df[\"indication_value\"]"
   ]
  },
  {
   "cell_type": "code",
   "execution_count": 59,
   "id": "common-arabic",
   "metadata": {},
   "outputs": [],
   "source": [
    "lab=lab.to_numpy()"
   ]
  },
  {
   "cell_type": "code",
   "execution_count": 60,
   "id": "above-meter",
   "metadata": {},
   "outputs": [],
   "source": [
    "m=lab.shape[0]"
   ]
  },
  {
   "cell_type": "code",
   "execution_count": 61,
   "id": "engaging-saturday",
   "metadata": {},
   "outputs": [],
   "source": [
    "lab=lab.reshape(1,m)"
   ]
  },
  {
   "cell_type": "code",
   "execution_count": 62,
   "id": "cubic-mortality",
   "metadata": {},
   "outputs": [],
   "source": [
    "test_xun = im_arr1.reshape(im_arr1.shape[0],-1).T"
   ]
  },
  {
   "cell_type": "code",
   "execution_count": 63,
   "id": "uniform-nutrition",
   "metadata": {},
   "outputs": [
    {
     "data": {
      "text/plain": [
       "(4096, 6002)"
      ]
     },
     "execution_count": 63,
     "metadata": {},
     "output_type": "execute_result"
    }
   ],
   "source": [
    "test_xun.shape"
   ]
  },
  {
   "cell_type": "code",
   "execution_count": 64,
   "id": "accessible-africa",
   "metadata": {},
   "outputs": [],
   "source": [
    "finalpredi=predict(test_xun,params)"
   ]
  },
  {
   "cell_type": "code",
   "execution_count": 65,
   "id": "operating-attendance",
   "metadata": {},
   "outputs": [],
   "source": [
    "cnt=0\n",
    "for i in range(0,m):\n",
    "    if lab[0][i]==finalpredi[i]:\n",
    "        cnt+=1"
   ]
  },
  {
   "cell_type": "code",
   "execution_count": 66,
   "id": "impressive-union",
   "metadata": {},
   "outputs": [
    {
     "data": {
      "text/plain": [
       "83.33888703765412"
      ]
     },
     "execution_count": 66,
     "metadata": {},
     "output_type": "execute_result"
    }
   ],
   "source": [
    "accuracy=((cnt/m)*100)\n",
    "accuracy"
   ]
  },
  {
   "cell_type": "code",
   "execution_count": 67,
   "id": "micro-designer",
   "metadata": {},
   "outputs": [],
   "source": [
    "testmat=test_xun.reshape(6002,4096)"
   ]
  },
  {
   "cell_type": "code",
   "execution_count": 118,
   "id": "sweet-arizona",
   "metadata": {},
   "outputs": [],
   "source": [
    "img=testmat[909]"
   ]
  },
  {
   "cell_type": "code",
   "execution_count": 119,
   "id": "complete-communication",
   "metadata": {},
   "outputs": [
    {
     "data": {
      "text/plain": [
       "<matplotlib.image.AxesImage at 0x23fbdb4da30>"
      ]
     },
     "execution_count": 119,
     "metadata": {},
     "output_type": "execute_result"
    },
    {
     "data": {
      "image/png": "[encoded data removed]",
      "text/plain": [
       "<Figure size 432x288 with 1 Axes>"
      ]
     },
     "metadata": {
      "needs_background": "light"
     },
     "output_type": "display_data"
    }
   ],
   "source": [
    "plt.imshow(im_arr1[909])"
   ]
  },
  {
   "cell_type": "code",
   "execution_count": 120,
   "id": "practical-prayer",
   "metadata": {},
   "outputs": [],
   "source": [
    "img=img.reshape(4096,1)"
   ]
  },
  {
   "cell_type": "code",
   "execution_count": 121,
   "id": "furnished-dating",
   "metadata": {},
   "outputs": [],
   "source": [
    "out=predict(img,params)"
   ]
  },
  {
   "cell_type": "code",
   "execution_count": 122,
   "id": "sustained-volume",
   "metadata": {},
   "outputs": [
    {
     "data": {
      "text/plain": [
       "array([1.])"
      ]
     },
     "execution_count": 122,
     "metadata": {},
     "output_type": "execute_result"
    }
   ],
   "source": [
    "out"
   ]
  },
  {
   "cell_type": "code",
   "execution_count": null,
   "id": "expensive-rider",
   "metadata": {},
   "outputs": [],
   "source": []
  }
 ],
 "metadata": {
  "kernelspec": {
   "display_name": "Python 3",
   "language": "python",
   "name": "python3"
  },
  "language_info": {
   "codemirror_mode": {
    "name": "ipython",
    "version": 3
   },
   "file_extension": ".py",
   "mimetype": "text/x-python",
   "name": "python",
   "nbconvert_exporter": "python",
   "pygments_lexer": "ipython3",
   "version": "3.9.0"
  }
 },
 "nbformat": 4,
 "nbformat_minor": 5
}
